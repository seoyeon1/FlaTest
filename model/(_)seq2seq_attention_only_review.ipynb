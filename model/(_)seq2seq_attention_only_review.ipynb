{
  "nbformat": 4,
  "nbformat_minor": 0,
  "metadata": {
    "colab": {
      "name": "(*)seq2seq_attention_only_review.ipynb",
      "provenance": [],
      "collapsed_sections": [],
      "machine_shape": "hm"
    },
    "kernelspec": {
      "name": "python3",
      "display_name": "Python 3"
    },
    "language_info": {
      "name": "python"
    },
    "accelerator": "GPU"
  },
  "cells": [
    {
      "cell_type": "code",
      "metadata": {
        "id": "b2jrj_xnIekm"
      },
      "source": [
        "import numpy as np\n",
        "import pandas as pd\n",
        "import re\n",
        "import matplotlib.pyplot as plt\n",
        "from nltk.corpus import stopwords\n",
        "from bs4 import BeautifulSoup\n",
        "from tensorflow.keras.preprocessing.text import Tokenizer\n",
        "from tensorflow.keras.preprocessing.sequence import pad_sequences\n",
        "import urllib.request\n",
        "np.random.seed(seed=0)"
      ],
      "execution_count": 531,
      "outputs": []
    },
    {
      "cell_type": "code",
      "metadata": {
        "colab": {
          "base_uri": "https://localhost:8080/"
        },
        "id": "liT36-Q09LYb",
        "outputId": "d70219e3-e6e6-4faf-b8fb-e47db7e9f1d2"
      },
      "source": [
        "from google.colab import drive\n",
        "\n",
        "drive.mount('/content/gdrive')"
      ],
      "execution_count": 532,
      "outputs": [
        {
          "output_type": "stream",
          "text": [
            "Drive already mounted at /content/gdrive; to attempt to forcibly remount, call drive.mount(\"/content/gdrive\", force_remount=True).\n"
          ],
          "name": "stdout"
        }
      ]
    },
    {
      "cell_type": "code",
      "metadata": {
        "id": "VeOso4p99Zl1"
      },
      "source": [
        "filepath = '/content/gdrive/My Drive/capstone_design_yoon/'"
      ],
      "execution_count": 533,
      "outputs": []
    },
    {
      "cell_type": "markdown",
      "metadata": {
        "id": "ZBG35cbD-Zmq"
      },
      "source": [
        "# 데이터 로드"
      ]
    },
    {
      "cell_type": "code",
      "metadata": {
        "colab": {
          "base_uri": "https://localhost:8080/"
        },
        "id": "aHJHnkEu-0Mr",
        "outputId": "b333d4e2-5c28-40e8-f2a9-f4c2ab2c2b72"
      },
      "source": [
        "data = pd.read_csv(filepath + 'Reviews.csv')\n",
        "print('전체 리뷰 개수 :', (len(data)))"
      ],
      "execution_count": 534,
      "outputs": [
        {
          "output_type": "stream",
          "text": [
            "전체 리뷰 개수 : 568454\n"
          ],
          "name": "stdout"
        }
      ]
    },
    {
      "cell_type": "code",
      "metadata": {
        "id": "PIrnzMBK_nmN",
        "colab": {
          "base_uri": "https://localhost:8080/",
          "height": 272
        },
        "outputId": "3a461180-12c2-406b-8bd7-15770dd732dc"
      },
      "source": [
        "data.head()"
      ],
      "execution_count": 535,
      "outputs": [
        {
          "output_type": "execute_result",
          "data": {
            "text/html": [
              "<div>\n",
              "<style scoped>\n",
              "    .dataframe tbody tr th:only-of-type {\n",
              "        vertical-align: middle;\n",
              "    }\n",
              "\n",
              "    .dataframe tbody tr th {\n",
              "        vertical-align: top;\n",
              "    }\n",
              "\n",
              "    .dataframe thead th {\n",
              "        text-align: right;\n",
              "    }\n",
              "</style>\n",
              "<table border=\"1\" class=\"dataframe\">\n",
              "  <thead>\n",
              "    <tr style=\"text-align: right;\">\n",
              "      <th></th>\n",
              "      <th>Id</th>\n",
              "      <th>ProductId</th>\n",
              "      <th>UserId</th>\n",
              "      <th>ProfileName</th>\n",
              "      <th>HelpfulnessNumerator</th>\n",
              "      <th>HelpfulnessDenominator</th>\n",
              "      <th>Score</th>\n",
              "      <th>Time</th>\n",
              "      <th>Summary</th>\n",
              "      <th>Text</th>\n",
              "    </tr>\n",
              "  </thead>\n",
              "  <tbody>\n",
              "    <tr>\n",
              "      <th>0</th>\n",
              "      <td>1</td>\n",
              "      <td>B001E4KFG0</td>\n",
              "      <td>A3SGXH7AUHU8GW</td>\n",
              "      <td>delmartian</td>\n",
              "      <td>1</td>\n",
              "      <td>1</td>\n",
              "      <td>5</td>\n",
              "      <td>1303862400</td>\n",
              "      <td>Good Quality Dog Food</td>\n",
              "      <td>I have bought several of the Vitality canned d...</td>\n",
              "    </tr>\n",
              "    <tr>\n",
              "      <th>1</th>\n",
              "      <td>2</td>\n",
              "      <td>B00813GRG4</td>\n",
              "      <td>A1D87F6ZCVE5NK</td>\n",
              "      <td>dll pa</td>\n",
              "      <td>0</td>\n",
              "      <td>0</td>\n",
              "      <td>1</td>\n",
              "      <td>1346976000</td>\n",
              "      <td>Not as Advertised</td>\n",
              "      <td>Product arrived labeled as Jumbo Salted Peanut...</td>\n",
              "    </tr>\n",
              "    <tr>\n",
              "      <th>2</th>\n",
              "      <td>3</td>\n",
              "      <td>B000LQOCH0</td>\n",
              "      <td>ABXLMWJIXXAIN</td>\n",
              "      <td>Natalia Corres \"Natalia Corres\"</td>\n",
              "      <td>1</td>\n",
              "      <td>1</td>\n",
              "      <td>4</td>\n",
              "      <td>1219017600</td>\n",
              "      <td>\"Delight\" says it all</td>\n",
              "      <td>This is a confection that has been around a fe...</td>\n",
              "    </tr>\n",
              "    <tr>\n",
              "      <th>3</th>\n",
              "      <td>4</td>\n",
              "      <td>B000UA0QIQ</td>\n",
              "      <td>A395BORC6FGVXV</td>\n",
              "      <td>Karl</td>\n",
              "      <td>3</td>\n",
              "      <td>3</td>\n",
              "      <td>2</td>\n",
              "      <td>1307923200</td>\n",
              "      <td>Cough Medicine</td>\n",
              "      <td>If you are looking for the secret ingredient i...</td>\n",
              "    </tr>\n",
              "    <tr>\n",
              "      <th>4</th>\n",
              "      <td>5</td>\n",
              "      <td>B006K2ZZ7K</td>\n",
              "      <td>A1UQRSCLF8GW1T</td>\n",
              "      <td>Michael D. Bigham \"M. Wassir\"</td>\n",
              "      <td>0</td>\n",
              "      <td>0</td>\n",
              "      <td>5</td>\n",
              "      <td>1350777600</td>\n",
              "      <td>Great taffy</td>\n",
              "      <td>Great taffy at a great price.  There was a wid...</td>\n",
              "    </tr>\n",
              "  </tbody>\n",
              "</table>\n",
              "</div>"
            ],
            "text/plain": [
              "   Id  ...                                               Text\n",
              "0   1  ...  I have bought several of the Vitality canned d...\n",
              "1   2  ...  Product arrived labeled as Jumbo Salted Peanut...\n",
              "2   3  ...  This is a confection that has been around a fe...\n",
              "3   4  ...  If you are looking for the secret ingredient i...\n",
              "4   5  ...  Great taffy at a great price.  There was a wid...\n",
              "\n",
              "[5 rows x 10 columns]"
            ]
          },
          "metadata": {
            "tags": []
          },
          "execution_count": 535
        }
      ]
    },
    {
      "cell_type": "code",
      "metadata": {
        "colab": {
          "base_uri": "https://localhost:8080/",
          "height": 204
        },
        "id": "Glis10okA5vd",
        "outputId": "5e796df4-56f9-45f7-dfcf-72bb87edacea"
      },
      "source": [
        "#리뷰 원문과 요약문 출력\n",
        "data = data[['Text', 'Summary']]\n",
        "data.head()"
      ],
      "execution_count": 536,
      "outputs": [
        {
          "output_type": "execute_result",
          "data": {
            "text/html": [
              "<div>\n",
              "<style scoped>\n",
              "    .dataframe tbody tr th:only-of-type {\n",
              "        vertical-align: middle;\n",
              "    }\n",
              "\n",
              "    .dataframe tbody tr th {\n",
              "        vertical-align: top;\n",
              "    }\n",
              "\n",
              "    .dataframe thead th {\n",
              "        text-align: right;\n",
              "    }\n",
              "</style>\n",
              "<table border=\"1\" class=\"dataframe\">\n",
              "  <thead>\n",
              "    <tr style=\"text-align: right;\">\n",
              "      <th></th>\n",
              "      <th>Text</th>\n",
              "      <th>Summary</th>\n",
              "    </tr>\n",
              "  </thead>\n",
              "  <tbody>\n",
              "    <tr>\n",
              "      <th>0</th>\n",
              "      <td>I have bought several of the Vitality canned d...</td>\n",
              "      <td>Good Quality Dog Food</td>\n",
              "    </tr>\n",
              "    <tr>\n",
              "      <th>1</th>\n",
              "      <td>Product arrived labeled as Jumbo Salted Peanut...</td>\n",
              "      <td>Not as Advertised</td>\n",
              "    </tr>\n",
              "    <tr>\n",
              "      <th>2</th>\n",
              "      <td>This is a confection that has been around a fe...</td>\n",
              "      <td>\"Delight\" says it all</td>\n",
              "    </tr>\n",
              "    <tr>\n",
              "      <th>3</th>\n",
              "      <td>If you are looking for the secret ingredient i...</td>\n",
              "      <td>Cough Medicine</td>\n",
              "    </tr>\n",
              "    <tr>\n",
              "      <th>4</th>\n",
              "      <td>Great taffy at a great price.  There was a wid...</td>\n",
              "      <td>Great taffy</td>\n",
              "    </tr>\n",
              "  </tbody>\n",
              "</table>\n",
              "</div>"
            ],
            "text/plain": [
              "                                                Text                Summary\n",
              "0  I have bought several of the Vitality canned d...  Good Quality Dog Food\n",
              "1  Product arrived labeled as Jumbo Salted Peanut...      Not as Advertised\n",
              "2  This is a confection that has been around a fe...  \"Delight\" says it all\n",
              "3  If you are looking for the secret ingredient i...         Cough Medicine\n",
              "4  Great taffy at a great price.  There was a wid...            Great taffy"
            ]
          },
          "metadata": {
            "tags": []
          },
          "execution_count": 536
        }
      ]
    },
    {
      "cell_type": "code",
      "metadata": {
        "colab": {
          "base_uri": "https://localhost:8080/",
          "height": 359
        },
        "id": "y8-fQ1opBIMh",
        "outputId": "2441fd33-77de-43f1-df64-895baf5d197d"
      },
      "source": [
        "data.sample(10)"
      ],
      "execution_count": 537,
      "outputs": [
        {
          "output_type": "execute_result",
          "data": {
            "text/html": [
              "<div>\n",
              "<style scoped>\n",
              "    .dataframe tbody tr th:only-of-type {\n",
              "        vertical-align: middle;\n",
              "    }\n",
              "\n",
              "    .dataframe tbody tr th {\n",
              "        vertical-align: top;\n",
              "    }\n",
              "\n",
              "    .dataframe thead th {\n",
              "        text-align: right;\n",
              "    }\n",
              "</style>\n",
              "<table border=\"1\" class=\"dataframe\">\n",
              "  <thead>\n",
              "    <tr style=\"text-align: right;\">\n",
              "      <th></th>\n",
              "      <th>Text</th>\n",
              "      <th>Summary</th>\n",
              "    </tr>\n",
              "  </thead>\n",
              "  <tbody>\n",
              "    <tr>\n",
              "      <th>11214</th>\n",
              "      <td>I could live off of these! I'm not kidding. Th...</td>\n",
              "      <td>Yes!!!</td>\n",
              "    </tr>\n",
              "    <tr>\n",
              "      <th>222079</th>\n",
              "      <td>I found this product in a local grocery store ...</td>\n",
              "      <td>Tropical Trail Mix</td>\n",
              "    </tr>\n",
              "    <tr>\n",
              "      <th>251082</th>\n",
              "      <td>My young son is taking Chinese in school and w...</td>\n",
              "      <td>Great Gummies!</td>\n",
              "    </tr>\n",
              "    <tr>\n",
              "      <th>317731</th>\n",
              "      <td>I love Grove Square Spiced Apple Cider Cups (s...</td>\n",
              "      <td>I'm addicted to this!</td>\n",
              "    </tr>\n",
              "    <tr>\n",
              "      <th>404652</th>\n",
              "      <td>This is probably my shortest review but there'...</td>\n",
              "      <td>Tastes Eh, Very Expensive</td>\n",
              "    </tr>\n",
              "    <tr>\n",
              "      <th>483320</th>\n",
              "      <td>This is a great instant ginger product.  I mix...</td>\n",
              "      <td>Very Good</td>\n",
              "    </tr>\n",
              "    <tr>\n",
              "      <th>435467</th>\n",
              "      <td>I have another pumpkin eating dog (it really h...</td>\n",
              "      <td>Pleasant Surprise</td>\n",
              "    </tr>\n",
              "    <tr>\n",
              "      <th>322422</th>\n",
              "      <td>To my knowledge Late july has been one of the ...</td>\n",
              "      <td>Great for Students, but not the best organic c...</td>\n",
              "    </tr>\n",
              "    <tr>\n",
              "      <th>496171</th>\n",
              "      <td>If you love nuts and want something truly natu...</td>\n",
              "      <td>My KIND of bar</td>\n",
              "    </tr>\n",
              "    <tr>\n",
              "      <th>427084</th>\n",
              "      <td>(This review is for the white can with the gol...</td>\n",
              "      <td>Like Battery Acid</td>\n",
              "    </tr>\n",
              "  </tbody>\n",
              "</table>\n",
              "</div>"
            ],
            "text/plain": [
              "                                                     Text                                            Summary\n",
              "11214   I could live off of these! I'm not kidding. Th...                                             Yes!!!\n",
              "222079  I found this product in a local grocery store ...                                 Tropical Trail Mix\n",
              "251082  My young son is taking Chinese in school and w...                                     Great Gummies!\n",
              "317731  I love Grove Square Spiced Apple Cider Cups (s...                              I'm addicted to this!\n",
              "404652  This is probably my shortest review but there'...                          Tastes Eh, Very Expensive\n",
              "483320  This is a great instant ginger product.  I mix...                                          Very Good\n",
              "435467  I have another pumpkin eating dog (it really h...                                  Pleasant Surprise\n",
              "322422  To my knowledge Late july has been one of the ...  Great for Students, but not the best organic c...\n",
              "496171  If you love nuts and want something truly natu...                                     My KIND of bar\n",
              "427084  (This review is for the white can with the gol...                                  Like Battery Acid"
            ]
          },
          "metadata": {
            "tags": []
          },
          "execution_count": 537
        }
      ]
    },
    {
      "cell_type": "markdown",
      "metadata": {
        "id": "tnb3ORNSBWYj"
      },
      "source": [
        "# 데이터 정제"
      ]
    },
    {
      "cell_type": "code",
      "metadata": {
        "colab": {
          "base_uri": "https://localhost:8080/"
        },
        "id": "UKqzb4TgBSwV",
        "outputId": "ff8f1019-8930-4e1f-d884-af1f724f07ef"
      },
      "source": [
        "#데이터 중복 제거1\n",
        "print('Text 열에서 중복 제거 후 데이터 수 : ', data['Text'].nunique())\n",
        "print('Summary 열에서 중복 제거 후 데이터 수: ', data['Summary'].nunique())"
      ],
      "execution_count": 538,
      "outputs": [
        {
          "output_type": "stream",
          "text": [
            "Text 열에서 중복 제거 후 데이터 수 :  393579\n",
            "Summary 열에서 중복 제거 후 데이터 수:  295742\n"
          ],
          "name": "stdout"
        }
      ]
    },
    {
      "cell_type": "code",
      "metadata": {
        "colab": {
          "base_uri": "https://localhost:8080/"
        },
        "id": "3u0kN9H6ByYS",
        "outputId": "a67b2788-8baf-4e5a-f94c-293e64ce4b01"
      },
      "source": [
        "#데이터 중복 제거2\n",
        "data.drop_duplicates(subset=['Text'], inplace=True)\n",
        "print(\"전체 데이터 수 :\", len(data))"
      ],
      "execution_count": 539,
      "outputs": [
        {
          "output_type": "stream",
          "text": [
            "전체 데이터 수 : 393579\n"
          ],
          "name": "stdout"
        }
      ]
    },
    {
      "cell_type": "code",
      "metadata": {
        "colab": {
          "base_uri": "https://localhost:8080/"
        },
        "id": "ZAbpRZsQCK6y",
        "outputId": "d668cfff-c0e1-422a-f571-2b92294dbfc4"
      },
      "source": [
        "#null값 있는지 확인\n",
        "print(data.isnull().sum())"
      ],
      "execution_count": 540,
      "outputs": [
        {
          "output_type": "stream",
          "text": [
            "Text       0\n",
            "Summary    3\n",
            "dtype: int64\n"
          ],
          "name": "stdout"
        }
      ]
    },
    {
      "cell_type": "code",
      "metadata": {
        "colab": {
          "base_uri": "https://localhost:8080/"
        },
        "id": "7ugGGlYRCVn5",
        "outputId": "232eb8e7-c9c0-449f-927d-79fc024c8a10"
      },
      "source": [
        "#summary에 존재하는 null값 제거\n",
        "data.dropna(axis=0, inplace=True)\n",
        "print('전체 데이터 수 :', (len(data)))"
      ],
      "execution_count": 541,
      "outputs": [
        {
          "output_type": "stream",
          "text": [
            "전체 데이터 수 : 393576\n"
          ],
          "name": "stdout"
        }
      ]
    },
    {
      "cell_type": "code",
      "metadata": {
        "id": "RqQ155AYC4Bf"
      },
      "source": [
        "#단어 정규화 및 불용어 제거\n",
        "contractions = {\"ain't\": \"is not\", \"aren't\": \"are not\",\"can't\": \"cannot\", \"'cause\": \"because\", \"could've\": \"could have\", \"couldn't\": \"could not\", \"didn't\": \"did not\",  \"doesn't\": \"does not\", \"don't\": \"do not\", \"hadn't\": \"had not\", \"hasn't\": \"has not\", \"haven't\": \"have not\", \"he'd\": \"he would\",\"he'll\": \"he will\", \"he's\": \"he is\", \"how'd\": \"how did\", \"how'd'y\": \"how do you\", \"how'll\": \"how will\", \"how's\": \"how is\", \"I'd\": \"I would\", \"I'd've\": \"I would have\", \"I'll\": \"I will\", \"I'll've\": \"I will have\",\"I'm\": \"I am\", \"I've\": \"I have\", \"i'd\": \"i would\", \"i'd've\": \"i would have\", \"i'll\": \"i will\",  \"i'll've\": \"i will have\",\"i'm\": \"i am\", \"i've\": \"i have\", \"isn't\": \"is not\", \"it'd\": \"it would\", \"it'd've\": \"it would have\", \"it'll\": \"it will\", \"it'll've\": \"it will have\",\"it's\": \"it is\", \"let's\": \"let us\", \"ma'am\": \"madam\", \"mayn't\": \"may not\", \"might've\": \"might have\",\"mightn't\": \"might not\",\"mightn't've\": \"might not have\", \"must've\": \"must have\", \"mustn't\": \"must not\", \"mustn't've\": \"must not have\", \"needn't\": \"need not\", \"needn't've\": \"need not have\",\"o'clock\": \"of the clock\", \"oughtn't\": \"ought not\", \"oughtn't've\": \"ought not have\", \"shan't\": \"shall not\", \"sha'n't\": \"shall not\", \"shan't've\": \"shall not have\", \"she'd\": \"she would\", \"she'd've\": \"she would have\", \"she'll\": \"she will\", \"she'll've\": \"she will have\", \"she's\": \"she is\", \"should've\": \"should have\", \"shouldn't\": \"should not\", \"shouldn't've\": \"should not have\", \"so've\": \"so have\",\"so's\": \"so as\", \"this's\": \"this is\",\"that'd\": \"that would\", \"that'd've\": \"that would have\", \"that's\": \"that is\", \"there'd\": \"there would\", \"there'd've\": \"there would have\", \"there's\": \"there is\", \"here's\": \"here is\",\"they'd\": \"they would\", \"they'd've\": \"they would have\", \"they'll\": \"they will\", \"they'll've\": \"they will have\", \"they're\": \"they are\", \"they've\": \"they have\", \"to've\": \"to have\", \"wasn't\": \"was not\", \"we'd\": \"we would\", \"we'd've\": \"we would have\", \"we'll\": \"we will\", \"we'll've\": \"we will have\", \"we're\": \"we are\", \"we've\": \"we have\", \"weren't\": \"were not\", \"what'll\": \"what will\", \"what'll've\": \"what will have\", \"what're\": \"what are\", \"what's\": \"what is\", \"what've\": \"what have\", \"when's\": \"when is\", \"when've\": \"when have\", \"where'd\": \"where did\", \"where's\": \"where is\", \"where've\": \"where have\", \"who'll\": \"who will\", \"who'll've\": \"who will have\", \"who's\": \"who is\", \"who've\": \"who have\", \"why's\": \"why is\", \"why've\": \"why have\", \"will've\": \"will have\", \"won't\": \"will not\", \"won't've\": \"will not have\", \"would've\": \"would have\", \"wouldn't\": \"would not\", \"wouldn't've\": \"would not have\", \"y'all\": \"you all\", \"y'all'd\": \"you all would\",\"y'all'd've\": \"you all would have\",\"y'all're\": \"you all are\",\"y'all've\": \"you all have\", \"you'd\": \"you would\", \"you'd've\": \"you would have\", \"you'll\": \"you will\", \"you'll've\": \"you will have\", \"you're\": \"you are\", \"you've\": \"you have\"}"
      ],
      "execution_count": 542,
      "outputs": []
    },
    {
      "cell_type": "code",
      "metadata": {
        "colab": {
          "base_uri": "https://localhost:8080/"
        },
        "id": "FOptG1d4DN_W",
        "outputId": "70a5b2d0-1fba-480a-b3e8-690c38fec67e"
      },
      "source": [
        "#NLTK의 불용어\n",
        "import nltk\n",
        "nltk.download('stopwords')\n",
        "stop_words = set(stopwords.words('english'))\n",
        "print('불용어 개수 :', len(stop_words))\n",
        "print(stop_words)"
      ],
      "execution_count": 543,
      "outputs": [
        {
          "output_type": "stream",
          "text": [
            "[nltk_data] Downloading package stopwords to /root/nltk_data...\n",
            "[nltk_data]   Package stopwords is already up-to-date!\n",
            "불용어 개수 : 179\n",
            "{'re', 'very', 'these', 'have', 'as', \"hadn't\", 'below', \"doesn't\", 'myself', 'before', 'not', 'mustn', 'again', 'whom', \"that'll\", 'no', \"needn't\", 'did', 'those', 'but', 'so', 'most', 'too', 'themselves', \"wasn't\", 'into', \"mustn't\", 'for', 'ours', 'be', 'll', \"should've\", 'in', 'she', 'both', 'm', 'ourselves', 'doing', 'does', 'any', 'couldn', 'was', 'them', 'they', 'which', \"haven't\", 'him', 'from', 'more', 'some', 'then', 'shan', 'once', 'each', 'you', 'had', 'against', 'all', 'few', 'aren', 'wouldn', 'his', 'their', \"you've\", 'is', 'between', 'to', 'above', 'that', 'weren', 'himself', \"won't\", 'were', 'when', 'here', 'been', 'up', 'now', 'doesn', 'nor', \"shan't\", \"she's\", \"it's\", 'while', 'what', \"you're\", 'an', 'yourself', \"hasn't\", 'by', 'of', 'on', 'hasn', 'will', 'because', 'about', 'same', \"weren't\", 'yours', 'if', 'needn', 'ain', 'under', 'further', 'until', 'can', 'there', \"isn't\", 'her', 'theirs', 'just', 'am', 'why', 'such', 'out', 'won', 'hadn', 'than', 'itself', 't', 'a', 'isn', 've', 'do', 'my', 'after', 'with', 'y', 'didn', 'has', 's', \"wouldn't\", 'i', 'who', 'hers', 'we', 'd', 'having', 'off', 'haven', \"aren't\", 'yourselves', 'over', 'ma', 'the', 'where', 'other', 'it', 'how', 'down', \"you'd\", 'during', 'o', 'or', 'only', \"don't\", 'mightn', 'herself', \"couldn't\", 'our', 'own', \"didn't\", 'being', 'its', 'at', 'and', 'he', 'this', 'shouldn', \"you'll\", \"shouldn't\", 'are', 'through', 'wasn', 'me', 'should', \"mightn't\", 'your', 'don'}\n"
          ],
          "name": "stdout"
        }
      ]
    },
    {
      "cell_type": "code",
      "metadata": {
        "id": "JNuuSERVDluI"
      },
      "source": [
        "#전처리 함수 설계\n",
        "def preprocess_sentence(sentence, remove_stopwords = True):\n",
        "    sentence = sentence.lower() #텍스트 소문자화\n",
        "    sentence = BeautifulSoup(sentence, \"lxml\").text #html 태그 제거\n",
        "    sentence = re.sub(r'\\([^)]*\\)',  '', sentence) #괄호로 닫힌 문자열 제거 Ex) my husband (and myself) for => my husband for\n",
        "    sentence = re.sub('\"','', sentence) # 쌍따옴표 \" 제거\n",
        "    sentence = ' '.join([contractions[t] if t in contractions else t for t in sentence.split(\" \")]) # 약어 정규화\n",
        "    sentence = re.sub(r\"'s\\b\",\"\",sentence) # 소유격 제거. Ex) roland's -> roland\n",
        "    sentence = re.sub(\"[^a-zA-Z]\", \" \", sentence) # 영어 외 문자(숫자, 특수문자 등) 공백으로 변환\n",
        "    sentence = re.sub('[m]{2,}', 'mm', sentence) # m이 3개 이상이면 2개로 변경. Ex) ummmmmmm yeah -> umm yeah\n",
        "\n",
        "    # 불용어 제거 (Text)\n",
        "    if remove_stopwords:\n",
        "        tokens = ' '.join(word for word in sentence.split() if not word in stop_words if len(word) > 1)\n",
        "    # 불용어 미제거 (Summary)\n",
        "    else:\n",
        "        tokens = ' '.join(word for word in sentence.split() if len(word) > 1)\n",
        "    return tokens"
      ],
      "execution_count": 544,
      "outputs": []
    },
    {
      "cell_type": "code",
      "metadata": {
        "colab": {
          "base_uri": "https://localhost:8080/"
        },
        "id": "V-kt4zBkHeuJ",
        "outputId": "75840754-0fda-4bf9-ff52-9ca00aceb3e7"
      },
      "source": [
        "temp_text = 'Everything I bought was great, infact I ordered twice and the third ordered was<br />for my mother and father.'\n",
        "temp_summary = 'Great way to start (or finish) the day!!!'\n",
        "print(preprocess_sentence(temp_text))\n",
        "print(preprocess_sentence(temp_summary, 0))"
      ],
      "execution_count": 545,
      "outputs": [
        {
          "output_type": "stream",
          "text": [
            "everything bought great infact ordered twice third ordered wasfor mother father\n",
            "great way to start the day\n"
          ],
          "name": "stdout"
        }
      ]
    },
    {
      "cell_type": "code",
      "metadata": {
        "colab": {
          "base_uri": "https://localhost:8080/"
        },
        "id": "Jiv9HmFwI52R",
        "outputId": "2f32bbea-815a-4de1-e69b-7b73b298edef"
      },
      "source": [
        "# Text 열 전처리\n",
        "clean_text = []\n",
        "for s in data['Text']:\n",
        "    clean_text.append(preprocess_sentence(s))\n",
        "clean_text[:5]"
      ],
      "execution_count": 546,
      "outputs": [
        {
          "output_type": "execute_result",
          "data": {
            "text/plain": [
              "['bought several vitality canned dog food products found good quality product looks like stew processed meat smells better labrador finicky appreciates product better',\n",
              " 'product arrived labeled jumbo salted peanuts peanuts actually small sized unsalted sure error vendor intended represent product jumbo',\n",
              " 'confection around centuries light pillowy citrus gelatin nuts case filberts cut tiny squares liberally coated powdered sugar tiny mouthful heaven chewy flavorful highly recommend yummy treat familiar story lewis lion witch wardrobe treat seduces edmund selling brother sisters witch',\n",
              " 'looking secret ingredient robitussin believe found got addition root beer extract ordered made cherry soda flavor medicinal',\n",
              " 'great taffy great price wide assortment yummy taffy delivery quick taffy lover deal']"
            ]
          },
          "metadata": {
            "tags": []
          },
          "execution_count": 546
        }
      ]
    },
    {
      "cell_type": "code",
      "metadata": {
        "colab": {
          "base_uri": "https://localhost:8080/"
        },
        "id": "EMefyE49rebZ",
        "outputId": "e88ba124-2fba-4137-931e-d81630f84f3d"
      },
      "source": [
        "# Summary 열 전처리\n",
        "clean_summary = []\n",
        "for s in data['Summary']:\n",
        "    clean_summary.append(preprocess_sentence(s, 0))\n",
        "clean_summary[:5]\n"
      ],
      "execution_count": 547,
      "outputs": [
        {
          "output_type": "stream",
          "text": [
            "/usr/local/lib/python3.7/dist-packages/bs4/__init__.py:336: UserWarning: \"http://www.amazon.com/gp/product/b007i7yygy/ref=cm_cr_rev_prod_title\" looks like a URL. Beautiful Soup is not an HTTP client. You should probably use an HTTP client like requests to get the document behind the URL, and feed that document to Beautiful Soup.\n",
            "  ' that document to Beautiful Soup.' % decoded_markup\n",
            "/usr/local/lib/python3.7/dist-packages/bs4/__init__.py:273: UserWarning: \"b'.'\" looks like a filename, not markup. You should probably open this file and pass the filehandle into Beautiful Soup.\n",
            "  ' Beautiful Soup.' % markup)\n",
            "/usr/local/lib/python3.7/dist-packages/bs4/__init__.py:336: UserWarning: \"http://www.amazon.com/gp/product/b000v9lq30/ref=cm_cr_rev_prod_title\" looks like a URL. Beautiful Soup is not an HTTP client. You should probably use an HTTP client like requests to get the document behind the URL, and feed that document to Beautiful Soup.\n",
            "  ' that document to Beautiful Soup.' % decoded_markup\n",
            "/usr/local/lib/python3.7/dist-packages/bs4/__init__.py:336: UserWarning: \"http://www.amazon.com/gp/product/b001eq58fq/ref=cm_cr_rev_prod_title\" looks like a URL. Beautiful Soup is not an HTTP client. You should probably use an HTTP client like requests to get the document behind the URL, and feed that document to Beautiful Soup.\n",
            "  ' that document to Beautiful Soup.' % decoded_markup\n",
            "/usr/local/lib/python3.7/dist-packages/bs4/__init__.py:336: UserWarning: \"http://www.amazon.com/gp/product/b000eyobru/ref=cm_cr_rev_prod_title\" looks like a URL. Beautiful Soup is not an HTTP client. You should probably use an HTTP client like requests to get the document behind the URL, and feed that document to Beautiful Soup.\n",
            "  ' that document to Beautiful Soup.' % decoded_markup\n"
          ],
          "name": "stderr"
        },
        {
          "output_type": "execute_result",
          "data": {
            "text/plain": [
              "['good quality dog food',\n",
              " 'not as advertised',\n",
              " 'delight says it all',\n",
              " 'cough medicine',\n",
              " 'great taffy']"
            ]
          },
          "metadata": {
            "tags": []
          },
          "execution_count": 547
        }
      ]
    },
    {
      "cell_type": "code",
      "metadata": {
        "id": "7oAOE3E0rj98"
      },
      "source": [
        "#전처리 결과 저장\n",
        "data['Text'] = clean_text\n",
        "data['Summary'] = clean_summary\n"
      ],
      "execution_count": 548,
      "outputs": []
    },
    {
      "cell_type": "code",
      "metadata": {
        "colab": {
          "base_uri": "https://localhost:8080/"
        },
        "id": "WLE2ECd8rpls",
        "outputId": "d5f203d5-3a08-42a2-db67-3f5ddd28b0cf"
      },
      "source": [
        "# 길이가 공백인 샘플은 NULL 값으로 변환\n",
        "data.replace('', np.nan, inplace=True)\n",
        "print(data.isnull().sum())"
      ],
      "execution_count": 549,
      "outputs": [
        {
          "output_type": "stream",
          "text": [
            "Text         3\n",
            "Summary    350\n",
            "dtype: int64\n"
          ],
          "name": "stdout"
        }
      ]
    },
    {
      "cell_type": "code",
      "metadata": {
        "colab": {
          "base_uri": "https://localhost:8080/"
        },
        "id": "28aCVHy6rujG",
        "outputId": "a6015a54-d258-46c5-f658-798cad77346f"
      },
      "source": [
        "# summary 열 샘플 null값 제거 -> 전체 샘플 수 확인\n",
        "data.dropna(axis = 0, inplace = True)\n",
        "print('전체 샘플수 :',(len(data)))"
      ],
      "execution_count": 550,
      "outputs": [
        {
          "output_type": "stream",
          "text": [
            "전체 샘플수 : 393224\n"
          ],
          "name": "stdout"
        }
      ]
    },
    {
      "cell_type": "code",
      "metadata": {
        "colab": {
          "base_uri": "https://localhost:8080/",
          "height": 961
        },
        "id": "uSDycUZ2r32P",
        "outputId": "7c5d2b49-b10e-4ebc-ce18-651e382edbdc"
      },
      "source": [
        "# 길이 분포 출력\n",
        "text_len = [len(s.split()) for s in data['Text']]\n",
        "summary_len = [len(s.split()) for s in data['Summary']]\n",
        "\n",
        "print('텍스트의 최소 길이 : {}'.format(np.min(text_len)))\n",
        "print('텍스트의 최대 길이 : {}'.format(np.max(text_len)))\n",
        "print('텍스트의 평균 길이 : {}'.format(np.mean(text_len)))\n",
        "print('요약의 최소 길이 : {}'.format(np.min(summary_len)))\n",
        "print('요약의 최대 길이 : {}'.format(np.max(summary_len)))\n",
        "print('요약의 평균 길이 : {}'.format(np.mean(summary_len)))\n",
        "\n",
        "plt.subplot(1,2,1)\n",
        "plt.boxplot(summary_len)\n",
        "plt.title('Summary')\n",
        "plt.subplot(1,2,2)\n",
        "plt.boxplot(text_len)\n",
        "plt.title('Text')\n",
        "plt.tight_layout()\n",
        "plt.show()\n",
        "\n",
        "plt.title('Summary')\n",
        "plt.hist(summary_len, bins=40)\n",
        "plt.xlabel('length of samples')\n",
        "plt.ylabel('number of samples')\n",
        "plt.show()\n",
        "\n",
        "plt.title('Text')\n",
        "plt.hist(text_len, bins=40)\n",
        "plt.xlabel('length of samples')\n",
        "plt.ylabel('number of samples')\n",
        "plt.show()"
      ],
      "execution_count": 551,
      "outputs": [
        {
          "output_type": "stream",
          "text": [
            "텍스트의 최소 길이 : 1\n",
            "텍스트의 최대 길이 : 1919\n",
            "텍스트의 평균 길이 : 38.02456869367078\n",
            "요약의 최소 길이 : 1\n",
            "요약의 최대 길이 : 28\n",
            "요약의 평균 길이 : 3.960066018350864\n"
          ],
          "name": "stdout"
        },
        {
          "output_type": "display_data",
          "data": {
            "image/png": "[encoded data removed]",
            "text/plain": [
              "<Figure size 432x288 with 2 Axes>"
            ]
          },
          "metadata": {
            "tags": [],
            "needs_background": "light"
          }
        },
        {
          "output_type": "display_data",
          "data": {
            "image/png": "[encoded data removed]",
            "text/plain": [
              "<Figure size 432x288 with 1 Axes>"
            ]
          },
          "metadata": {
            "tags": [],
            "needs_background": "light"
          }
        },
        {
          "output_type": "display_data",
          "data": {
            "image/png": "[encoded data removed]",
            "text/plain": [
              "<Figure size 432x288 with 1 Axes>"
            ]
          },
          "metadata": {
            "tags": [],
            "needs_background": "light"
          }
        }
      ]
    },
    {
      "cell_type": "code",
      "metadata": {
        "id": "M1uiZQ8Cr6Uz"
      },
      "source": [
        "text_max_len = 60\n",
        "summary_max_len = 6"
      ],
      "execution_count": 628,
      "outputs": []
    },
    {
      "cell_type": "code",
      "metadata": {
        "id": "B9h5tkovsKnl"
      },
      "source": [
        "def below_threshold_len(max_len, nested_list):\n",
        "  cnt = 0\n",
        "  for s in nested_list:\n",
        "    if(len(s.split()) <= max_len):\n",
        "        cnt = cnt + 1\n",
        "  print('전체 샘플 중 길이가 %s 이하인 샘플의 비율: %s'%(max_len, (cnt / len(nested_list))))"
      ],
      "execution_count": 619,
      "outputs": []
    },
    {
      "cell_type": "code",
      "metadata": {
        "colab": {
          "base_uri": "https://localhost:8080/"
        },
        "id": "tE8x4FycsOZs",
        "outputId": "d0d3391d-ac49-45de-b709-8b8363734b45"
      },
      "source": [
        "below_threshold_len(text_max_len, data['Text'])"
      ],
      "execution_count": 620,
      "outputs": [
        {
          "output_type": "stream",
          "text": [
            "전체 샘플 중 길이가 2089 이하인 샘플의 비율: 1.0\n"
          ],
          "name": "stdout"
        }
      ]
    },
    {
      "cell_type": "code",
      "metadata": {
        "colab": {
          "base_uri": "https://localhost:8080/"
        },
        "id": "omF331khsU_N",
        "outputId": "0e65282c-af97-4bf3-8eb2-8cc83a030820"
      },
      "source": [
        "below_threshold_len(summary_max_len, data['Summary'])"
      ],
      "execution_count": 621,
      "outputs": [
        {
          "output_type": "stream",
          "text": [
            "전체 샘플 중 길이가 6 이하인 샘플의 비율: 1.0\n"
          ],
          "name": "stdout"
        }
      ]
    },
    {
      "cell_type": "code",
      "metadata": {
        "colab": {
          "base_uri": "https://localhost:8080/"
        },
        "id": "ANYuPa-lsheA",
        "outputId": "a5ccd875-13bd-4ab2-e346-6cf84a830328"
      },
      "source": [
        "data = data[data['Text'].apply(lambda x: len(x.split()) <= text_max_len)]\n",
        "data = data[data['Summary'].apply(lambda x: len(x.split()) <= summary_max_len)]\n",
        "print('전체 샘플수 :',(len(data)))"
      ],
      "execution_count": 622,
      "outputs": [
        {
          "output_type": "stream",
          "text": [
            "전체 샘플수 : 294998\n"
          ],
          "name": "stdout"
        }
      ]
    },
    {
      "cell_type": "code",
      "metadata": {
        "colab": {
          "base_uri": "https://localhost:8080/",
          "height": 204
        },
        "id": "mbmA-mpXsk2M",
        "outputId": "1f8065c1-4a2d-4c7c-fe27-2ec3372c2957"
      },
      "source": [
        "data.head()"
      ],
      "execution_count": 557,
      "outputs": [
        {
          "output_type": "execute_result",
          "data": {
            "text/html": [
              "<div>\n",
              "<style scoped>\n",
              "    .dataframe tbody tr th:only-of-type {\n",
              "        vertical-align: middle;\n",
              "    }\n",
              "\n",
              "    .dataframe tbody tr th {\n",
              "        vertical-align: top;\n",
              "    }\n",
              "\n",
              "    .dataframe thead th {\n",
              "        text-align: right;\n",
              "    }\n",
              "</style>\n",
              "<table border=\"1\" class=\"dataframe\">\n",
              "  <thead>\n",
              "    <tr style=\"text-align: right;\">\n",
              "      <th></th>\n",
              "      <th>Text</th>\n",
              "      <th>Summary</th>\n",
              "    </tr>\n",
              "  </thead>\n",
              "  <tbody>\n",
              "    <tr>\n",
              "      <th>0</th>\n",
              "      <td>bought several vitality canned dog food produc...</td>\n",
              "      <td>good quality dog food</td>\n",
              "    </tr>\n",
              "    <tr>\n",
              "      <th>1</th>\n",
              "      <td>product arrived labeled jumbo salted peanuts p...</td>\n",
              "      <td>not as advertised</td>\n",
              "    </tr>\n",
              "    <tr>\n",
              "      <th>2</th>\n",
              "      <td>confection around centuries light pillowy citr...</td>\n",
              "      <td>delight says it all</td>\n",
              "    </tr>\n",
              "    <tr>\n",
              "      <th>3</th>\n",
              "      <td>looking secret ingredient robitussin believe f...</td>\n",
              "      <td>cough medicine</td>\n",
              "    </tr>\n",
              "    <tr>\n",
              "      <th>4</th>\n",
              "      <td>great taffy great price wide assortment yummy ...</td>\n",
              "      <td>great taffy</td>\n",
              "    </tr>\n",
              "  </tbody>\n",
              "</table>\n",
              "</div>"
            ],
            "text/plain": [
              "                                                Text                Summary\n",
              "0  bought several vitality canned dog food produc...  good quality dog food\n",
              "1  product arrived labeled jumbo salted peanuts p...      not as advertised\n",
              "2  confection around centuries light pillowy citr...    delight says it all\n",
              "3  looking secret ingredient robitussin believe f...         cough medicine\n",
              "4  great taffy great price wide assortment yummy ...            great taffy"
            ]
          },
          "metadata": {
            "tags": []
          },
          "execution_count": 557
        }
      ]
    },
    {
      "cell_type": "code",
      "metadata": {
        "colab": {
          "base_uri": "https://localhost:8080/",
          "height": 204
        },
        "id": "YEsV_HYisnQg",
        "outputId": "1dff3e04-824d-46e4-a8aa-36063b7f0887"
      },
      "source": [
        "# 요약 데이터 시작 토큰과 종료 토큰을 추가\n",
        "data['decoder_input'] = data['Summary'].apply(lambda x : 'sostoken '+ x)\n",
        "data['decoder_target'] = data['Summary'].apply(lambda x : x + ' eostoken')\n",
        "data.head()"
      ],
      "execution_count": 558,
      "outputs": [
        {
          "output_type": "execute_result",
          "data": {
            "text/html": [
              "<div>\n",
              "<style scoped>\n",
              "    .dataframe tbody tr th:only-of-type {\n",
              "        vertical-align: middle;\n",
              "    }\n",
              "\n",
              "    .dataframe tbody tr th {\n",
              "        vertical-align: top;\n",
              "    }\n",
              "\n",
              "    .dataframe thead th {\n",
              "        text-align: right;\n",
              "    }\n",
              "</style>\n",
              "<table border=\"1\" class=\"dataframe\">\n",
              "  <thead>\n",
              "    <tr style=\"text-align: right;\">\n",
              "      <th></th>\n",
              "      <th>Text</th>\n",
              "      <th>Summary</th>\n",
              "      <th>decoder_input</th>\n",
              "      <th>decoder_target</th>\n",
              "    </tr>\n",
              "  </thead>\n",
              "  <tbody>\n",
              "    <tr>\n",
              "      <th>0</th>\n",
              "      <td>bought several vitality canned dog food produc...</td>\n",
              "      <td>good quality dog food</td>\n",
              "      <td>sostoken good quality dog food</td>\n",
              "      <td>good quality dog food eostoken</td>\n",
              "    </tr>\n",
              "    <tr>\n",
              "      <th>1</th>\n",
              "      <td>product arrived labeled jumbo salted peanuts p...</td>\n",
              "      <td>not as advertised</td>\n",
              "      <td>sostoken not as advertised</td>\n",
              "      <td>not as advertised eostoken</td>\n",
              "    </tr>\n",
              "    <tr>\n",
              "      <th>2</th>\n",
              "      <td>confection around centuries light pillowy citr...</td>\n",
              "      <td>delight says it all</td>\n",
              "      <td>sostoken delight says it all</td>\n",
              "      <td>delight says it all eostoken</td>\n",
              "    </tr>\n",
              "    <tr>\n",
              "      <th>3</th>\n",
              "      <td>looking secret ingredient robitussin believe f...</td>\n",
              "      <td>cough medicine</td>\n",
              "      <td>sostoken cough medicine</td>\n",
              "      <td>cough medicine eostoken</td>\n",
              "    </tr>\n",
              "    <tr>\n",
              "      <th>4</th>\n",
              "      <td>great taffy great price wide assortment yummy ...</td>\n",
              "      <td>great taffy</td>\n",
              "      <td>sostoken great taffy</td>\n",
              "      <td>great taffy eostoken</td>\n",
              "    </tr>\n",
              "  </tbody>\n",
              "</table>\n",
              "</div>"
            ],
            "text/plain": [
              "                                                Text  ...                  decoder_target\n",
              "0  bought several vitality canned dog food produc...  ...  good quality dog food eostoken\n",
              "1  product arrived labeled jumbo salted peanuts p...  ...      not as advertised eostoken\n",
              "2  confection around centuries light pillowy citr...  ...    delight says it all eostoken\n",
              "3  looking secret ingredient robitussin believe f...  ...         cough medicine eostoken\n",
              "4  great taffy great price wide assortment yummy ...  ...            great taffy eostoken\n",
              "\n",
              "[5 rows x 4 columns]"
            ]
          },
          "metadata": {
            "tags": []
          },
          "execution_count": 558
        }
      ]
    },
    {
      "cell_type": "code",
      "metadata": {
        "id": "pIyrTqIFszgI"
      },
      "source": [
        "encoder_input = np.array(data['Text'])\n",
        "decoder_input = np.array(data['decoder_input'])\n",
        "decoder_target = np.array(data['decoder_target'])"
      ],
      "execution_count": 559,
      "outputs": []
    },
    {
      "cell_type": "code",
      "metadata": {
        "colab": {
          "base_uri": "https://localhost:8080/"
        },
        "id": "RsI_U1lYs1ro",
        "outputId": "7c242856-7420-4364-f2df-38f0525cb11f"
      },
      "source": [
        "indices = np.arange(encoder_input.shape[0])\n",
        "np.random.shuffle(indices)\n",
        "print(indices)"
      ],
      "execution_count": 560,
      "outputs": [
        {
          "output_type": "stream",
          "text": [
            "[167898  43687  91313 ... 194310  34705 212692]\n"
          ],
          "name": "stdout"
        }
      ]
    },
    {
      "cell_type": "code",
      "metadata": {
        "id": "UWEksinxs6uY"
      },
      "source": [
        "encoder_input = encoder_input[indices]\n",
        "decoder_input = decoder_input[indices]\n",
        "decoder_target = decoder_target[indices]\n",
        "\n",
        "tokenizer_su = Tokenizer()\n",
        "tokenizer_su.fit_on_texts(decoder_input)\n",
        "tokenizer_su.fit_on_texts(decoder_target)"
      ],
      "execution_count": 561,
      "outputs": []
    },
    {
      "cell_type": "code",
      "metadata": {
        "id": "4XnWd0x_jC-J"
      },
      "source": [
        "su_to_index = tokenizer_su.word_index\n",
        "index_to_su = tokenizer_su.index_word"
      ],
      "execution_count": 562,
      "outputs": []
    },
    {
      "cell_type": "code",
      "metadata": {
        "colab": {
          "base_uri": "https://localhost:8080/"
        },
        "id": "oXBnRNhOs-AY",
        "outputId": "c1af2b70-bd09-4dc0-b9c9-92111896e1d2"
      },
      "source": [
        "n_of_val = int(len(encoder_input)*0.2)\n",
        "print('테스트 데이터의 수 :',n_of_val)"
      ],
      "execution_count": 563,
      "outputs": [
        {
          "output_type": "stream",
          "text": [
            "테스트 데이터의 수 : 58999\n"
          ],
          "name": "stdout"
        }
      ]
    },
    {
      "cell_type": "code",
      "metadata": {
        "id": "9iBM7yS9tAp9"
      },
      "source": [
        "encoder_input_train = encoder_input[:-n_of_val]\n",
        "decoder_input_train = decoder_input[:-n_of_val]\n",
        "decoder_target_train = decoder_target[:-n_of_val]\n",
        "\n",
        "encoder_input_test = encoder_input[-n_of_val:]\n",
        "decoder_input_test = decoder_input[-n_of_val:]\n",
        "decoder_target_test = decoder_target[-n_of_val:]"
      ],
      "execution_count": 564,
      "outputs": []
    },
    {
      "cell_type": "code",
      "metadata": {
        "colab": {
          "base_uri": "https://localhost:8080/"
        },
        "id": "amrbhQKxtCUA",
        "outputId": "69947feb-b352-4b1b-aa9d-0ff25352e04c"
      },
      "source": [
        "print('훈련 데이터의 개수 :', len(encoder_input_train))\n",
        "print('훈련 레이블의 개수 :',len(decoder_input_train))\n",
        "print('테스트 데이터의 개수 :',len(encoder_input_test))\n",
        "print('테스트 레이블의 개수 :',len(decoder_input_test))"
      ],
      "execution_count": 565,
      "outputs": [
        {
          "output_type": "stream",
          "text": [
            "훈련 데이터의 개수 : 235999\n",
            "훈련 레이블의 개수 : 235999\n",
            "테스트 데이터의 개수 : 58999\n",
            "테스트 레이블의 개수 : 58999\n"
          ],
          "name": "stdout"
        }
      ]
    },
    {
      "cell_type": "markdown",
      "metadata": {
        "id": "blhVNDoXtGPG"
      },
      "source": [
        "# 정수 인코딩"
      ]
    },
    {
      "cell_type": "code",
      "metadata": {
        "id": "wmCAN2SOtJjU"
      },
      "source": [
        "# 텍스트를 숫자로 처리할 수 있도록 훈련,테스트 데이터에 정수 인코딩 수행\n",
        "src_tokenizer = Tokenizer()\n",
        "src_tokenizer.fit_on_texts(encoder_input_train)"
      ],
      "execution_count": 566,
      "outputs": []
    },
    {
      "cell_type": "code",
      "metadata": {
        "colab": {
          "base_uri": "https://localhost:8080/"
        },
        "id": "CDHHID_utW1k",
        "outputId": "b1cc0fa6-70c0-40f6-f7bf-d2195b9834ae"
      },
      "source": [
        "threshold = 7\n",
        "total_cnt = len(src_tokenizer.word_index) # 단어의 수\n",
        "rare_cnt = 0 # 등장 빈도수가 threshold보다 작은 단어의 개수를 카운트\n",
        "total_freq = 0 # 훈련 데이터의 전체 단어 빈도수 총 합\n",
        "rare_freq = 0 # 등장 빈도수가 threshold보다 작은 단어의 등장 빈도수의 총 합\n",
        "\n",
        "# 단어와 빈도수의 쌍(pair)을 key와 value로 받는다.\n",
        "for key, value in src_tokenizer.word_counts.items():\n",
        "    total_freq = total_freq + value\n",
        "\n",
        "    # 단어의 등장 빈도수가 threshold보다 작으면\n",
        "    if(value < threshold):\n",
        "        rare_cnt = rare_cnt + 1\n",
        "        rare_freq = rare_freq + value\n",
        "\n",
        "print('단어 집합(vocabulary)의 크기 :',total_cnt)\n",
        "print('등장 빈도가 %s번 이하인 희귀 단어의 수: %s'%(threshold - 1, rare_cnt))\n",
        "print('단어 집합에서 희귀 단어를 제외시킬 경우의 단어 집합의 크기 %s'%(total_cnt - rare_cnt))\n",
        "print(\"단어 집합에서 희귀 단어의 비율:\", (rare_cnt / total_cnt)*100)\n",
        "print(\"전체 등장 빈도에서 희귀 단어 등장 빈도 비율:\", (rare_freq / total_freq)*100)"
      ],
      "execution_count": 567,
      "outputs": [
        {
          "output_type": "stream",
          "text": [
            "단어 집합(vocabulary)의 크기 : 72746\n",
            "등장 빈도가 6번 이하인 희귀 단어의 수: 55075\n",
            "단어 집합에서 희귀 단어를 제외시킬 경우의 단어 집합의 크기 17671\n",
            "단어 집합에서 희귀 단어의 비율: 75.70863002776785\n",
            "전체 등장 빈도에서 희귀 단어 등장 빈도 비율: 1.5637044796449853\n"
          ],
          "name": "stdout"
        }
      ]
    },
    {
      "cell_type": "code",
      "metadata": {
        "id": "mNwX5L4Btt6o"
      },
      "source": [
        "src_vocab = 17000\n",
        "src_tokenizer = Tokenizer(num_words = src_vocab) \n",
        "src_tokenizer.fit_on_texts(encoder_input_train)\n",
        "\n",
        "# 텍스트 시퀀스를 정수 시퀀스로 변환\n",
        "encoder_input_train = src_tokenizer.texts_to_sequences(encoder_input_train) \n",
        "encoder_input_test = src_tokenizer.texts_to_sequences(encoder_input_test)\n"
      ],
      "execution_count": 568,
      "outputs": []
    },
    {
      "cell_type": "code",
      "metadata": {
        "colab": {
          "base_uri": "https://localhost:8080/"
        },
        "id": "QEO-iNPNtwt4",
        "outputId": "17164af0-c6a3-4149-f7f6-cf87a85dfcc9"
      },
      "source": [
        "print(encoder_input_train[:3])"
      ],
      "execution_count": 569,
      "outputs": [
        {
          "output_type": "stream",
          "text": [
            "[[54, 417, 87, 1108, 1038, 43, 32, 1146, 87, 1576, 115, 286, 204, 250, 330, 5, 335, 25, 101, 1330, 404, 405, 18, 3600, 1270, 2137, 941, 2297, 2569, 5, 75, 189], [62, 2921, 752, 400, 757, 3, 21, 1013, 599, 2921, 770, 859, 5907, 33, 4161, 286, 2047, 234, 2047, 1179, 592, 250, 263, 1179, 1814, 404, 1018, 2475, 294, 408, 87, 4022, 2047, 101, 8233], [217, 44, 69, 173, 1064, 40, 356, 411, 112, 1064, 3, 55, 264, 113, 21, 1368, 892, 1479, 2904, 14142, 1064, 15657, 1, 186, 892, 217, 548, 1649, 10, 5058, 128, 892, 78, 290, 1818, 1262, 24, 2197]]\n"
          ],
          "name": "stdout"
        }
      ]
    },
    {
      "cell_type": "code",
      "metadata": {
        "id": "wEr7um_Ptzuw"
      },
      "source": [
        "tar_tokenizer = Tokenizer()\n",
        "tar_tokenizer.fit_on_texts(decoder_input_train)"
      ],
      "execution_count": 570,
      "outputs": []
    },
    {
      "cell_type": "code",
      "metadata": {
        "colab": {
          "base_uri": "https://localhost:8080/"
        },
        "id": "zYqBcSbFt1p9",
        "outputId": "e4b730c9-4947-446f-ab77-7929a1a31bca"
      },
      "source": [
        "threshold = 6\n",
        "total_cnt = len(tar_tokenizer.word_index) # 단어의 수\n",
        "rare_cnt = 0 # 등장 빈도수가 threshold보다 작은 단어의 개수를 카운트\n",
        "total_freq = 0 # 훈련 데이터의 전체 단어 빈도수 총 합\n",
        "rare_freq = 0 # 등장 빈도수가 threshold보다 작은 단어의 등장 빈도수의 총 합\n",
        "\n",
        "# 단어와 빈도수의 쌍(pair)을 key와 value로 받는다.\n",
        "for key, value in tar_tokenizer.word_counts.items():\n",
        "    total_freq = total_freq + value\n",
        "\n",
        "    # 단어의 등장 빈도수가 threshold보다 작으면\n",
        "    if(value < threshold):\n",
        "        rare_cnt = rare_cnt + 1\n",
        "        rare_freq = rare_freq + value\n",
        "\n",
        "print('단어 집합(vocabulary)의 크기 :',total_cnt)\n",
        "print('등장 빈도가 %s번 이하인 희귀 단어의 수: %s'%(threshold - 1, rare_cnt))\n",
        "print('단어 집합에서 희귀 단어를 제외시킬 경우의 단어 집합의 크기 %s'%(total_cnt - rare_cnt))\n",
        "print(\"단어 집합에서 희귀 단어의 비율:\", (rare_cnt / total_cnt)*100)\n",
        "print(\"전체 등장 빈도에서 희귀 단어 등장 빈도 비율:\", (rare_freq / total_freq)*100)"
      ],
      "execution_count": 571,
      "outputs": [
        {
          "output_type": "stream",
          "text": [
            "단어 집합(vocabulary)의 크기 : 22895\n",
            "등장 빈도가 5번 이하인 희귀 단어의 수: 17336\n",
            "단어 집합에서 희귀 단어를 제외시킬 경우의 단어 집합의 크기 5559\n",
            "단어 집합에서 희귀 단어의 비율: 75.71958943000655\n",
            "전체 등장 빈도에서 희귀 단어 등장 빈도 비율: 2.9447508647284284\n"
          ],
          "name": "stdout"
        }
      ]
    },
    {
      "cell_type": "code",
      "metadata": {
        "id": "jZdoqH_gt2rc"
      },
      "source": [
        "tar_vocab = 5000\n",
        "tar_tokenizer = Tokenizer(num_words = tar_vocab) \n",
        "tar_tokenizer.fit_on_texts(decoder_input_train)\n",
        "tar_tokenizer.fit_on_texts(decoder_target_train)"
      ],
      "execution_count": 572,
      "outputs": []
    },
    {
      "cell_type": "code",
      "metadata": {
        "id": "EpAQmayBt6iw"
      },
      "source": [
        "# 텍스트 시퀀스를 정수 시퀀스로 변환\n",
        "decoder_input_train = tar_tokenizer.texts_to_sequences(decoder_input_train) \n",
        "decoder_target_train = tar_tokenizer.texts_to_sequences(decoder_target_train)\n",
        "decoder_input_test = tar_tokenizer.texts_to_sequences(decoder_input_test)\n",
        "decoder_target_test = tar_tokenizer.texts_to_sequences(decoder_target_test)"
      ],
      "execution_count": 573,
      "outputs": []
    },
    {
      "cell_type": "code",
      "metadata": {
        "colab": {
          "base_uri": "https://localhost:8080/"
        },
        "id": "vN7XQHRgt8Vn",
        "outputId": "abf659fc-a501-48eb-ba87-ffd37b3c094e"
      },
      "source": [
        "print(decoder_input_train[:5])"
      ],
      "execution_count": 574,
      "outputs": [
        {
          "output_type": "stream",
          "text": [
            "[[1, 662, 3828, 1556], [1, 3, 75], [1, 69, 361, 22, 225, 666], [1, 166, 57, 22, 119], [1, 21, 12]]\n"
          ],
          "name": "stdout"
        }
      ]
    },
    {
      "cell_type": "code",
      "metadata": {
        "colab": {
          "base_uri": "https://localhost:8080/"
        },
        "id": "RLtiSIk_t-GG",
        "outputId": "cb3c3219-14f4-4f5d-9683-a8bdc65be8be"
      },
      "source": [
        "print(decoder_target_train[:5])"
      ],
      "execution_count": 575,
      "outputs": [
        {
          "output_type": "stream",
          "text": [
            "[[662, 3828, 1556, 2], [3, 75, 2], [69, 361, 22, 225, 666, 2], [166, 57, 22, 119, 2], [21, 12, 2]]\n"
          ],
          "name": "stdout"
        }
      ]
    },
    {
      "cell_type": "markdown",
      "metadata": {
        "id": "iA1JRfOlt_-7"
      },
      "source": [
        "# 빈 샘플 제거"
      ]
    },
    {
      "cell_type": "code",
      "metadata": {
        "id": "iQ7C0ZlMuCY0"
      },
      "source": [
        "# 전체 데이터에서 빈도수가 낮은 단어가 삭제되었다는 것은 빈도수가 낮은 단어로 구성되었던 샘플이 빈 샘플이 되었다는 의미이므로 그런 샘플들 제거\n",
        "drop_train = [index for index, sentence in enumerate(decoder_input_train) if len(sentence) == 1]\n",
        "drop_test = [index for index, sentence in enumerate(decoder_input_test) if len(sentence) == 1]"
      ],
      "execution_count": 576,
      "outputs": []
    },
    {
      "cell_type": "code",
      "metadata": {
        "colab": {
          "base_uri": "https://localhost:8080/"
        },
        "id": "4T-1mmYwuQN4",
        "outputId": "1eaedc2e-7d11-4d3b-e03b-dd1182544dd1"
      },
      "source": [
        "print('삭제할 훈련 데이터의 개수 :',len(drop_train))\n",
        "print('삭제할 테스트 데이터의 개수 :',len(drop_test))"
      ],
      "execution_count": 577,
      "outputs": [
        {
          "output_type": "stream",
          "text": [
            "삭제할 훈련 데이터의 개수 : 3381\n",
            "삭제할 테스트 데이터의 개수 : 877\n"
          ],
          "name": "stdout"
        }
      ]
    },
    {
      "cell_type": "code",
      "metadata": {
        "colab": {
          "base_uri": "https://localhost:8080/"
        },
        "id": "PQiJd68Xuxs4",
        "outputId": "1eba7db7-7511-49ef-9e0f-745807a87241"
      },
      "source": [
        "encoder_input_train = np.delete(encoder_input_train, drop_train, axis=0)\n",
        "decoder_input_train = np.delete(decoder_input_train, drop_train, axis=0)\n",
        "decoder_target_train = np.delete(decoder_target_train, drop_train, axis=0)\n",
        "\n",
        "encoder_input_test = np.delete(encoder_input_test, drop_test, axis=0)\n",
        "decoder_input_test = np.delete(decoder_input_test, drop_test, axis=0)\n",
        "decoder_target_test = np.delete(decoder_target_test, drop_test, axis=0)\n",
        "\n",
        "print('훈련 데이터의 개수 :', len(encoder_input_train))\n",
        "print('훈련 레이블의 개수 :',len(decoder_input_train))\n",
        "print('테스트 데이터의 개수 :',len(encoder_input_test))\n",
        "print('테스트 레이블의 개수 :',len(decoder_input_test))"
      ],
      "execution_count": 578,
      "outputs": [
        {
          "output_type": "stream",
          "text": [
            "/usr/local/lib/python3.7/dist-packages/numpy/core/_asarray.py:83: VisibleDeprecationWarning: Creating an ndarray from ragged nested sequences (which is a list-or-tuple of lists-or-tuples-or ndarrays with different lengths or shapes) is deprecated. If you meant to do this, you must specify 'dtype=object' when creating the ndarray\n",
            "  return array(a, dtype, copy=False, order=order)\n"
          ],
          "name": "stderr"
        },
        {
          "output_type": "stream",
          "text": [
            "훈련 데이터의 개수 : 232618\n",
            "훈련 레이블의 개수 : 232618\n",
            "테스트 데이터의 개수 : 58122\n",
            "테스트 레이블의 개수 : 58122\n"
          ],
          "name": "stdout"
        }
      ]
    },
    {
      "cell_type": "markdown",
      "metadata": {
        "id": "BIUfyr_duzoM"
      },
      "source": [
        "# 패딩"
      ]
    },
    {
      "cell_type": "code",
      "metadata": {
        "id": "845Ag0Z5u1n8"
      },
      "source": [
        "encoder_input_train = pad_sequences(encoder_input_train, maxlen = text_max_len, padding='post')\n",
        "encoder_input_test = pad_sequences(encoder_input_test, maxlen = text_max_len, padding='post')\n",
        "decoder_input_train = pad_sequences(decoder_input_train, maxlen = summary_max_len, padding='post')\n",
        "decoder_target_train = pad_sequences(decoder_target_train, maxlen = summary_max_len, padding='post')\n",
        "decoder_input_test = pad_sequences(decoder_input_test, maxlen = summary_max_len, padding='post')\n",
        "decoder_target_test = pad_sequences(decoder_target_test, maxlen = summary_max_len, padding='post')"
      ],
      "execution_count": 579,
      "outputs": []
    },
    {
      "cell_type": "markdown",
      "metadata": {
        "id": "Dk7ANaP4u40I"
      },
      "source": [
        "# seq2seq + attention 요약모델 설계 및 훈련"
      ]
    },
    {
      "cell_type": "code",
      "metadata": {
        "id": "t9w0vgvau-kz"
      },
      "source": [
        "from tensorflow.keras.layers import Input, LSTM, Embedding, Dense, Concatenate\n",
        "from tensorflow.keras.models import Model\n",
        "from tensorflow.keras.callbacks import EarlyStopping, ModelCheckpoint"
      ],
      "execution_count": 580,
      "outputs": []
    },
    {
      "cell_type": "code",
      "metadata": {
        "id": "FE3ua_XtvApH"
      },
      "source": [
        "# 인코더 LSTM 3개 층 사용\n",
        "\n",
        "#embedding_dim = 128\n",
        "#hidden_size = 256\n",
        "\n",
        "# 인코더\n",
        "#encoder_inputs = Input(shape=(text_max_len,))\n",
        "\n",
        "# 인코더의 임베딩 층\n",
        "#enc_emb = Embedding(src_vocab, embedding_dim)(encoder_inputs)\n",
        "\n",
        "# 인코더의 LSTM 1\n",
        "#encoder_lstm1 = LSTM(hidden_size, return_sequences=True, return_state=True ,dropout = 0.4, recurrent_dropout = 0.4)\n",
        "#encoder_output1, state_h1, state_c1 = encoder_lstm1(enc_emb)\n",
        "\n",
        "# 인코더의 LSTM 2\n",
        "#encoder_lstm2 = LSTM(hidden_size, return_sequences=True, return_state=True, dropout=0.4, recurrent_dropout=0.4)\n",
        "#encoder_output2, state_h2, state_c2 = encoder_lstm2(encoder_output1)\n",
        "\n",
        "# 인코더의 LSTM 3\n",
        "#encoder_lstm3 = LSTM(hidden_size, return_state=True, return_sequences=True, dropout=0.4, recurrent_dropout=0.4)\n",
        "#encoder_outputs, state_h, state_c= encoder_lstm3(encoder_output2)"
      ],
      "execution_count": 581,
      "outputs": []
    },
    {
      "cell_type": "code",
      "metadata": {
        "id": "k9mcxvBuvJBD"
      },
      "source": [
        "# 디코더\n",
        "#decoder_inputs = Input(shape=(None,))\n",
        "\n",
        "# 디코더의 임베딩 층\n",
        "#dec_emb_layer = Embedding(tar_vocab, embedding_dim)\n",
        "#dec_emb = dec_emb_layer(decoder_inputs)\n",
        "\n",
        "# 디코더의 LSTM\n",
        "#decoder_lstm = LSTM(hidden_size, return_sequences = True, return_state = True, dropout = 0.4, recurrent_dropout=0.2)\n",
        "#decoder_outputs, _, _ = decoder_lstm(dec_emb, initial_state = [state_h, state_c])"
      ],
      "execution_count": 582,
      "outputs": []
    },
    {
      "cell_type": "code",
      "metadata": {
        "id": "_Wld9o_SvMdb"
      },
      "source": [
        "# 디코더의 출력층\n",
        "#decoder_softmax_layer = Dense(tar_vocab, activation = 'softmax')\n",
        "#decoder_softmax_outputs = decoder_softmax_layer(decoder_outputs) \n",
        "\n",
        "# 모델 정의\n",
        "#model = Model([encoder_inputs, decoder_inputs], decoder_softmax_outputs)\n",
        "#model.summary()\n"
      ],
      "execution_count": 583,
      "outputs": []
    },
    {
      "cell_type": "code",
      "metadata": {
        "colab": {
          "base_uri": "https://localhost:8080/"
        },
        "id": "28il5YpXo4sb",
        "outputId": "027be484-5c21-470d-97cd-5a3f5fc50d9e"
      },
      "source": [
        "!pip install pyyaml h5py"
      ],
      "execution_count": 584,
      "outputs": [
        {
          "output_type": "stream",
          "text": [
            "Requirement already satisfied: pyyaml in /usr/local/lib/python3.7/dist-packages (3.13)\n",
            "Requirement already satisfied: h5py in /usr/local/lib/python3.7/dist-packages (3.1.0)\n",
            "Requirement already satisfied: numpy>=1.14.5; python_version == \"3.7\" in /usr/local/lib/python3.7/dist-packages (from h5py) (1.19.5)\n",
            "Requirement already satisfied: cached-property; python_version < \"3.8\" in /usr/local/lib/python3.7/dist-packages (from h5py) (1.5.2)\n"
          ],
          "name": "stdout"
        }
      ]
    },
    {
      "cell_type": "code",
      "metadata": {
        "colab": {
          "base_uri": "https://localhost:8080/"
        },
        "id": "Ryzw3OjTo-hV",
        "outputId": "03d8bed6-1753-4677-ddf0-4906f7fe01c8"
      },
      "source": [
        "import os\n",
        "\n",
        "import tensorflow as tf\n",
        "from tensorflow import keras\n",
        "\n",
        "print(tf.version.VERSION)"
      ],
      "execution_count": 585,
      "outputs": [
        {
          "output_type": "stream",
          "text": [
            "2.5.0\n"
          ],
          "name": "stdout"
        }
      ]
    },
    {
      "cell_type": "code",
      "metadata": {
        "id": "H8U2dow_GBNa"
      },
      "source": [
        "from tensorflow.keras.layers import Input, LSTM, Embedding, Dense, Masking, Concatenate\n",
        "from tensorflow.keras.models import Model\n",
        "\n",
        "encoder_inputs = Input(shape=(text_max_len,))\n",
        "encoder_embed = Embedding(len(tokenizer_re.word_index)+1, 50)(encoder_inputs)\n",
        "encoder_mask = Masking(mask_value=0)(encoder_embed)\n",
        "encoder_outputs, h_state, c_state = LSTM(50, return_state=True, return_sequences=True)(encoder_mask)"
      ],
      "execution_count": 596,
      "outputs": []
    },
    {
      "cell_type": "code",
      "metadata": {
        "id": "KrzkDsVgGE9m"
      },
      "source": [
        "decoder_inputs = Input(shape=(None,))\n",
        "decoder_embed = Embedding(len(tokenizer_su.word_index)+1, 50)(decoder_inputs)\n",
        "decoder_mask = Masking(mask_value=0)(decoder_embed)\n",
        "decoder_lstm = LSTM(50, return_sequences=True, return_state=True)\n",
        "decoder_outputs, _, _ = decoder_lstm(decoder_mask, initial_state=[h_state, c_state])"
      ],
      "execution_count": 597,
      "outputs": []
    },
    {
      "cell_type": "code",
      "metadata": {
        "id": "0y9FVc24GHBP"
      },
      "source": [
        "attn_layer = AttentionLayer()\n",
        "attn_out, attn_states = attn_layer([encoder_outputs, decoder_outputs])\n",
        "decoder_concat_input = Concatenate()([decoder_outputs, attn_out])\n",
        "\n",
        "decoder_dense = Dense(len(tokenizer_su.word_index)+1, activation='softmax')\n",
        "decoder_softmax_outputs = decoder_dense(decoder_concat_input)"
      ],
      "execution_count": 598,
      "outputs": []
    },
    {
      "cell_type": "code",
      "metadata": {
        "colab": {
          "base_uri": "https://localhost:8080/"
        },
        "id": "Eq2WyU9Mvhcs",
        "outputId": "ecc98a2d-0ab4-4628-bc97-cb56ebdae707"
      },
      "source": [
        "#es = EarlyStopping(monitor='val_loss', mode='min', verbose=1, patience = 2)\n",
        "checkpoint_path = \"training_1/cp-{epoch:04d}.ckpt\"\n",
        "checkpoint_dir = os.path.dirname(checkpoint_path)\n",
        "\n",
        "cp_callback = tf.keras.callbacks.ModelCheckpoint(\n",
        "    filepath=checkpoint_path, \n",
        "    verbose=1, \n",
        "    save_weights_only=True,\n",
        "    period=5)\n",
        "\n",
        "model.save_weights(checkpoint_path.format(epoch=0))\n",
        "\n",
        "cp_callback = tf.keras.callbacks.ModelCheckpoint(filepath=checkpoint_path, save_weight_only=True, verbose=1)\n",
        "\n",
        "#history = model.fit(x = [encoder_input_train, decoder_input_train], y = decoder_target_train, \\\n",
        "          #validation_data = ([encoder_input_test, decoder_input_test], decoder_target_test),\n",
        "          #batch_size = 256, callbacks=[cp_callback], epochs = 10)\n",
        "\n",
        "\n",
        "model = Model([encoder_inputs, decoder_inputs], decoder_softmax_outputs)\n",
        "model.compile(optimizer='rmsprop', loss='sparse_categorical_crossentropy', metrics=['acc'])\n",
        "\n",
        "model.fit(x = [encoder_input_train, decoder_input_train], y = decoder_target_train, \n",
        "          validation_data = ([encoder_input_test, decoder_input_test], decoder_target_test), \n",
        "          batch_size = 128, callbacks=[cp_callback], epochs = 30)"
      ],
      "execution_count": null,
      "outputs": [
        {
          "output_type": "stream",
          "text": [
            "WARNING:tensorflow:`period` argument is deprecated. Please use `save_freq` to specify the frequency in number of batches seen.\n"
          ],
          "name": "stdout"
        },
        {
          "output_type": "stream",
          "text": [
            "WARNING:tensorflow:`period` argument is deprecated. Please use `save_freq` to specify the frequency in number of batches seen.\n"
          ],
          "name": "stderr"
        },
        {
          "output_type": "stream",
          "text": [
            "Epoch 1/30\n",
            " 356/1818 [====>.........................] - ETA: 1:53 - loss: 2.2139 - acc: 0.6178"
          ],
          "name": "stdout"
        }
      ]
    },
    {
      "cell_type": "code",
      "metadata": {
        "colab": {
          "base_uri": "https://localhost:8080/",
          "height": 281
        },
        "id": "og4jv1UDvi7T",
        "outputId": "6acfa27d-cf1a-48dc-d2a2-af9ce4826287"
      },
      "source": [
        "plt.title('running')\n",
        "plt.plot(history.history['loss'], label='train')\n",
        "plt.plot(history.history['val_loss'], label='test')\n",
        "plt.legend()\n",
        "plt.show()"
      ],
      "execution_count": 600,
      "outputs": [
        {
          "output_type": "display_data",
          "data": {
            "image/png": "[encoded data removed]",
            "text/plain": [
              "<Figure size 432x288 with 1 Axes>"
            ]
          },
          "metadata": {
            "tags": [],
            "needs_background": "light"
          }
        }
      ]
    },
    {
      "cell_type": "code",
      "metadata": {
        "colab": {
          "base_uri": "https://localhost:8080/"
        },
        "id": "6YGMH7ZJ8tgG",
        "outputId": "e59a5500-1085-4a17-a06d-a89d7a5f2fbd"
      },
      "source": [
        "!ls {checkpoint_dir}"
      ],
      "execution_count": 601,
      "outputs": [
        {
          "output_type": "stream",
          "text": [
            "checkpoint\t\t\t  cp-0004.ckpt\tcp-0010.ckpt  cp-0016.ckpt\n",
            "cp-0000.ckpt.data-00000-of-00001  cp-0005.ckpt\tcp-0011.ckpt  cp-0017.ckpt\n",
            "cp-0000.ckpt.index\t\t  cp-0006.ckpt\tcp-0012.ckpt  cp-0018.ckpt\n",
            "cp-0001.ckpt\t\t\t  cp-0007.ckpt\tcp-0013.ckpt  cp-0019.ckpt\n",
            "cp-0002.ckpt\t\t\t  cp-0008.ckpt\tcp-0014.ckpt  cp-0020.ckpt\n",
            "cp-0003.ckpt\t\t\t  cp-0009.ckpt\tcp-0015.ckpt\n"
          ],
          "name": "stdout"
        }
      ]
    },
    {
      "cell_type": "code",
      "metadata": {
        "colab": {
          "base_uri": "https://localhost:8080/",
          "height": 35
        },
        "id": "yj-naicy81Q7",
        "outputId": "1382ecd6-29d6-4fe7-ce2b-2dc1830b10bd"
      },
      "source": [
        "latest = tf.train.latest_checkpoint(checkpoint_dir)\n",
        "latest"
      ],
      "execution_count": 602,
      "outputs": [
        {
          "output_type": "execute_result",
          "data": {
            "application/vnd.google.colaboratory.intrinsic+json": {
              "type": "string"
            },
            "text/plain": [
              "'training_1/cp-0000.ckpt'"
            ]
          },
          "metadata": {
            "tags": []
          },
          "execution_count": 602
        }
      ]
    },
    {
      "cell_type": "code",
      "metadata": {
        "id": "be5sU9zA9AFE"
      },
      "source": [
        "# 새로운 모델 객체를 만듭니다\n",
        "model = create_model()\n",
        "\n",
        "# 이전에 저장한 가중치를 로드합니다\n",
        "model.load_weights(latest)\n"
      ],
      "execution_count": null,
      "outputs": []
    },
    {
      "cell_type": "code",
      "metadata": {
        "id": "X-lY3_E9-MBK"
      },
      "source": [
        "plt.title('loaded')\n",
        "plt.plot(history.history['loss'], label='train')\n",
        "plt.plot(history.history['val_loss'], label='test')\n",
        "plt.legend()\n",
        "plt.show()"
      ],
      "execution_count": null,
      "outputs": []
    },
    {
      "cell_type": "markdown",
      "metadata": {
        "id": "zB4WT-rn-xRl"
      },
      "source": [
        "# 수동으로 가중치 저장"
      ]
    },
    {
      "cell_type": "code",
      "metadata": {
        "id": "gDX-9u2F-1EE"
      },
      "source": [
        "# 가중치를 저장합니다\n",
        "model.save_weights('./checkpoints/my_checkpoint')\n",
        "\n",
        "# 새로운 모델 객체를 만듭니다\n",
        "model = create_model()\n",
        "\n",
        "# 가중치를 복원합니다\n",
        "model.load_weights('./checkpoints/my_checkpoint')\n",
        "\n",
        "# 모델을 평가합니다\n",
        "plt.title('not_auto_loaded')\n",
        "plt.plot(history.history['loss'], label='train')\n",
        "plt.plot(history.history['val_loss'], label='test')\n",
        "plt.legend()\n",
        "plt.show()"
      ],
      "execution_count": null,
      "outputs": []
    },
    {
      "cell_type": "code",
      "metadata": {
        "id": "EbgpDl3L_4Cw"
      },
      "source": [
        "!mkdir -p saved_model\n",
        "model.save('saved_model_prototype/my_model') "
      ],
      "execution_count": null,
      "outputs": []
    },
    {
      "cell_type": "code",
      "metadata": {
        "id": "AC9QkLnM_8pB"
      },
      "source": [
        "# my_model 디렉토리\n",
        "!ls saved_model\n",
        "\n",
        "# assests 폴더, saved_model.pb, variables 폴더\n",
        "!ls saved_model_prototype/my_model"
      ],
      "execution_count": null,
      "outputs": []
    },
    {
      "cell_type": "code",
      "metadata": {
        "colab": {
          "base_uri": "https://localhost:8080/"
        },
        "id": "EXyJ8iniAHkX",
        "outputId": "a332953b-8863-4242-8077-d084efac1fef"
      },
      "source": [
        "new_model = tf.keras.models.load_model('saved_model_prototype/my_model')\n",
        "\n",
        "# 모델 구조를 확인합니다\n",
        "new_model.summary()"
      ],
      "execution_count": 603,
      "outputs": [
        {
          "output_type": "stream",
          "text": [
            "WARNING:tensorflow:Layer lstm will not use cuDNN kernels since it doesn't meet the criteria. It will use a generic GPU kernel as fallback when running on GPU.\n"
          ],
          "name": "stdout"
        },
        {
          "output_type": "stream",
          "text": [
            "WARNING:tensorflow:Layer lstm will not use cuDNN kernels since it doesn't meet the criteria. It will use a generic GPU kernel as fallback when running on GPU.\n"
          ],
          "name": "stderr"
        },
        {
          "output_type": "stream",
          "text": [
            "WARNING:tensorflow:Layer lstm_1 will not use cuDNN kernels since it doesn't meet the criteria. It will use a generic GPU kernel as fallback when running on GPU.\n"
          ],
          "name": "stdout"
        },
        {
          "output_type": "stream",
          "text": [
            "WARNING:tensorflow:Layer lstm_1 will not use cuDNN kernels since it doesn't meet the criteria. It will use a generic GPU kernel as fallback when running on GPU.\n"
          ],
          "name": "stderr"
        },
        {
          "output_type": "stream",
          "text": [
            "WARNING:tensorflow:Layer lstm_2 will not use cuDNN kernels since it doesn't meet the criteria. It will use a generic GPU kernel as fallback when running on GPU.\n"
          ],
          "name": "stdout"
        },
        {
          "output_type": "stream",
          "text": [
            "WARNING:tensorflow:Layer lstm_2 will not use cuDNN kernels since it doesn't meet the criteria. It will use a generic GPU kernel as fallback when running on GPU.\n"
          ],
          "name": "stderr"
        },
        {
          "output_type": "stream",
          "text": [
            "WARNING:tensorflow:Layer lstm_3 will not use cuDNN kernels since it doesn't meet the criteria. It will use a generic GPU kernel as fallback when running on GPU.\n"
          ],
          "name": "stdout"
        },
        {
          "output_type": "stream",
          "text": [
            "WARNING:tensorflow:Layer lstm_3 will not use cuDNN kernels since it doesn't meet the criteria. It will use a generic GPU kernel as fallback when running on GPU.\n"
          ],
          "name": "stderr"
        },
        {
          "output_type": "stream",
          "text": [
            "Model: \"model_5\"\n",
            "__________________________________________________________________________________________________\n",
            "Layer (type)                    Output Shape         Param #     Connected to                     \n",
            "==================================================================================================\n",
            "input_1 (InputLayer)            [(None, 60)]         0                                            \n",
            "__________________________________________________________________________________________________\n",
            "embedding (Embedding)           (None, 60, 128)      2176000     input_1[0][0]                    \n",
            "__________________________________________________________________________________________________\n",
            "lstm (LSTM)                     [(None, 60, 256), (N 394240      embedding[0][0]                  \n",
            "__________________________________________________________________________________________________\n",
            "input_2 (InputLayer)            [(None, None)]       0                                            \n",
            "__________________________________________________________________________________________________\n",
            "lstm_1 (LSTM)                   [(None, 60, 256), (N 525312      lstm[0][0]                       \n",
            "__________________________________________________________________________________________________\n",
            "embedding_1 (Embedding)         (None, None, 128)    640000      input_2[0][0]                    \n",
            "__________________________________________________________________________________________________\n",
            "lstm_2 (LSTM)                   [(None, 60, 256), (N 525312      lstm_1[0][0]                     \n",
            "__________________________________________________________________________________________________\n",
            "lstm_3 (LSTM)                   [(None, None, 256),  394240      embedding_1[0][0]                \n",
            "                                                                 lstm_2[0][1]                     \n",
            "                                                                 lstm_2[0][2]                     \n",
            "__________________________________________________________________________________________________\n",
            "attention_layer (AttentionLayer ((None, None, 256),  131328      lstm_2[0][0]                     \n",
            "                                                                 lstm_3[0][0]                     \n",
            "__________________________________________________________________________________________________\n",
            "concat_layer (Concatenate)      (None, None, 512)    0           lstm_3[0][0]                     \n",
            "                                                                 attention_layer[0][0]            \n",
            "__________________________________________________________________________________________________\n",
            "dense_1 (Dense)                 (None, None, 5000)   2565000     concat_layer[0][0]               \n",
            "==================================================================================================\n",
            "Total params: 7,351,432\n",
            "Trainable params: 7,351,432\n",
            "Non-trainable params: 0\n",
            "__________________________________________________________________________________________________\n"
          ],
          "name": "stdout"
        }
      ]
    },
    {
      "cell_type": "code",
      "metadata": {
        "id": "Og3JoiS_E3OY"
      },
      "source": [
        "model.save('review_summaization_new.h5')"
      ],
      "execution_count": 604,
      "outputs": []
    },
    {
      "cell_type": "code",
      "metadata": {
        "colab": {
          "base_uri": "https://localhost:8080/",
          "height": 281
        },
        "id": "jfw-irRvxZ0m",
        "outputId": "21c5a28a-8f8b-44ec-b336-ac52c47e96f1"
      },
      "source": [
        "plt.title('loaded')\n",
        "plt.plot(history.history['loss'], label='train')\n",
        "plt.plot(history.history['val_loss'], label='test')\n",
        "plt.legend()\n",
        "plt.show()"
      ],
      "execution_count": 605,
      "outputs": [
        {
          "output_type": "display_data",
          "data": {
            "image/png": "[encoded data removed]",
            "text/plain": [
              "<Figure size 432x288 with 1 Axes>"
            ]
          },
          "metadata": {
            "tags": [],
            "needs_background": "light"
          }
        }
      ]
    },
    {
      "cell_type": "markdown",
      "metadata": {
        "id": "7YYIuEkKrXZ7"
      },
      "source": [
        "# seq2seq + attention으로 요약 모델 테스트"
      ]
    },
    {
      "cell_type": "code",
      "metadata": {
        "id": "-e_MkF4trTJw"
      },
      "source": [
        "src_index_to_word = src_tokenizer.index_word # 원문 단어 집합에서 정수 -> 단어를 얻음\n",
        "tar_word_to_index = tar_tokenizer.word_index # 요약 단어 집합에서 단어 -> 정수를 얻음\n",
        "tar_index_to_word = tar_tokenizer.index_word # 요약 단어 집합에서 정수 -> 단어를 얻음"
      ],
      "execution_count": 606,
      "outputs": []
    },
    {
      "cell_type": "code",
      "metadata": {
        "id": "VxA9TAqcGb2Z"
      },
      "source": [
        "encoder_model = Model(encoder_inputs, [encoder_outputs, h_state, c_state])"
      ],
      "execution_count": 607,
      "outputs": []
    },
    {
      "cell_type": "code",
      "metadata": {
        "id": "GvDfvMqsGdq4"
      },
      "source": [
        "encoder_h_state = Input(shape=(50,))\n",
        "encoder_c_state = Input(shape=(50,))\n",
        "\n",
        "pd_decoder_outputs, pd_h_state, pd_c_state = decoder_lstm(decoder_mask, initial_state=[encoder_h_state, encoder_c_state])\n",
        "\n",
        "# 어텐션 구현부\n",
        "# 2089는 시점 (단어, 패딩) 의 수, 50은 히든 스테이트의 차원\n",
        "pd_encoder_outputs = Input(shape=(text_max_len, 50))\n",
        "pd_attn_out, pd_attn_states = attn_layer([pd_encoder_outputs, pd_decoder_outputs])\n",
        "pd_decoder_concat = Concatenate()([pd_decoder_outputs, pd_attn_out])\n",
        "\n",
        "pd_decoder_softmax_outputs = decoder_dense(pd_decoder_concat)\n",
        "\n",
        "decoder_model = Model([decoder_inputs, pd_encoder_outputs, encoder_h_state, encoder_c_state], [pd_decoder_softmax_outputs, pd_h_state, pd_c_state])"
      ],
      "execution_count": 611,
      "outputs": []
    },
    {
      "cell_type": "code",
      "metadata": {
        "colab": {
          "base_uri": "https://localhost:8080/"
        },
        "id": "mJwlftJtGiN6",
        "outputId": "78e1f038-046b-4b0b-dafe-37af670bfb99"
      },
      "source": [
        "input_stc = input()\n",
        "token_stc = input_stc.split()\n",
        "encode_stc = tokenizer_re.texts_to_sequences([token_stc])\n",
        "pad_stc = pad_sequences(encode_stc, maxlen=text_max_len, padding=\"post\")\n",
        "\n",
        "en_out, en_hidden, en_cell = encoder_model.predict(pad_stc)\n",
        "\n",
        "predicted_seq = np.zeros((1,1))\n",
        "predicted_seq[0, 0] = su_to_index['sostoken']\n",
        "\n",
        "decoded_stc = []\n",
        "\n",
        "while True:\n",
        "    output_words, h, c = decoder_model.predict([predicted_seq, en_out, en_hidden, en_cell])\n",
        "\n",
        "    predicted_word = index_to_su[np.argmax(output_words[0,0])]\n",
        "\n",
        "    if predicted_word == 'eostoken':\n",
        "        break\n",
        "\n",
        "    decoded_stc.append(predicted_word)\n",
        "\n",
        "    predicted_seq = np.zeros((1,1))\n",
        "    predicted_seq[0, 0] = np.argmax(output_words[0, 0])\n",
        "\n",
        "    en_hidden = h\n",
        "    en_cell = c\n",
        "\n",
        "print('\\n')\n",
        "print(' '.join(decoded_stc))"
      ],
      "execution_count": 638,
      "outputs": [
        {
          "output_type": "stream",
          "text": [
            "Working as intended. ran it around the baseboards across the room. Did this so i can have my tower by me but the t.v. on the other side without having a cable to trip over. More then enough length. Cable was stiff at first from being so thick and wound so tight. it didn't seem to do any damage though and works very well, sound and video is crisp and clear.\n",
            "\n",
            "\n",
            "not better pumpkin\n"
          ],
          "name": "stdout"
        }
      ]
    },
    {
      "cell_type": "code",
      "metadata": {
        "colab": {
          "base_uri": "https://localhost:8080/"
        },
        "id": "1HRgWveXQL7I",
        "outputId": "005b43d4-a9c2-4df2-a0c9-65744ac91a4f"
      },
      "source": [
        "model.save('/content/gdrive/My Drive/capstone_design_yoon/')"
      ],
      "execution_count": 138,
      "outputs": [
        {
          "output_type": "stream",
          "text": [
            "INFO:tensorflow:Assets written to: /content/gdrive/My Drive/capstone_design_yoon/assets\n"
          ],
          "name": "stdout"
        }
      ]
    },
    {
      "cell_type": "code",
      "metadata": {
        "id": "4F823mYoQfTa"
      },
      "source": [
        ""
      ],
      "execution_count": null,
      "outputs": []
    }
  ]
}